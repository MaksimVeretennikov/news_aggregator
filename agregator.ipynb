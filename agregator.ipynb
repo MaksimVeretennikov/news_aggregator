{
 "cells": [
  {
   "cell_type": "code",
   "execution_count": 5,
   "metadata": {},
   "outputs": [
    {
     "name": "stdout",
     "output_type": "stream",
     "text": [
      "Главная новость Lenta.ru - Российский миллиардер предупредил власти о последствиях экспорта за рубли\n",
      "\n",
      "Lenta.ru - Лжемонашке запретили приближаться к монастырю из-за эксцентричного поведения\n",
      "Lenta.ru - Зеленский выступил за продолжение переговоров с Россией\n",
      "Lenta.ru - Раскрыта оптимальная частота стирки разных типов одежды\n",
      "Lenta.ru - Россиянка случайно отдала квартиру незнакомке\n",
      "Lenta.ru - Доля карт «Мир» в России выросла после ухода Visa и Mastercard\n",
      "\n",
      "===================================================================================================================\n",
      "\n",
      "Главная новость Yandex - ВС РФ уничтожили Центр подготовки украинских сил специальных операций около Очакова\n",
      "\n",
      "Yandex - Росгвардия сообщила о захвате схрона на Украине и задержании корректировщика артогня\n",
      "Yandex - Глава НЛМК заявил, что переход на платежи в рублях выбросит Россию с рынков\n",
      "Yandex - Reuters: Минфин США не разрешит России платежи в долларах по госдолгу\n",
      "Yandex - Одно из крупнейших европейских ПХГ в Германии с 1 апреля прекратило закачку и отбор газа\n",
      "Yandex - Кадыров заявил, что демилитаризация, денацификация и дешайтанизация Украины идут успешно\n",
      "\n",
      "===================================================================================================================\n",
      "\n",
      "Главная новость Al Jazeera - US, EU plan Russia sanctions as outrage grows over Bucha killings\n",
      "\n",
      "Al Jazeera - Pakistan Supreme Court resumes hearing on constitutional crisis\n",
      "Al Jazeera - How will the war in Ukraine affect Putin’s legacy?\n",
      "Al Jazeera - How Pakistan’s political crisis could play out in the coming days\n",
      "Al Jazeera - ‘Now or never’ to avoid climate catastrophe: UN\n",
      "Al Jazeera - Australia’s early plans for ‘dangerous’ encryption law revealed\n",
      "\n",
      "===================================================================================================================\n",
      "\n",
      "Главная новость РИА Новоссти - Украинские военные подготовили новые фейки с \"убитыми мирными жителями\"\n",
      "\n",
      "РИА Новоссти - Силы ДНР освободили 139 населенных пунктов\n",
      "РИА Новоссти - Глава МИД Германии исключила введение эмбарго на поставки российского газа\n",
      "РИА Новоссти - Дания высылает 15 российских дипломатов\n",
      "РИА Новоссти - Правительство упростило процедуру регистрации медизделий\n",
      "РИА Новоссти - Президент Южной Осетии рассказал о подготовке к референдуму по вхождению в состав России 0:16\n",
      "\n",
      "===================================================================================================================\n",
      "\n"
     ]
    }
   ],
   "source": [
    "import requests\n",
    "from bs4 import BeautifulSoup as BS\n",
    "\n",
    "def get_html(web_address):\n",
    "    r = requests.get(web_address)\n",
    "    return BS(r.content, \"html.parser\")\n",
    "\n",
    "def print_topnews(html, tag_name, class_name, portion, site_name):\n",
    "    top_news = html.find_all(tag_name, class_ = class_name)[portion]\n",
    "    for news in top_news:\n",
    "        # Убираем пробелы\n",
    "        title = news.text.strip()\n",
    "        print(site_name + ' - ' + title)\n",
    "    print('\\n' + '=' * 115 + '\\n')\n",
    "    \n",
    "def print_toptitle(html, tag_name, class_name, site_name):\n",
    "    top_title = html.find(tag_name, class_ = class_name).text.strip()\n",
    "    print(\"Главная новость \" + site_name + ' - ' + top_title + '\\n')\n",
    "\n",
    "source_info = {\n",
    "    \"https://lenta.ru\": ['Lenta.ru', \"h3\", \"card-big__title\", \"span\", \"card-mini__title\", slice(5)],\n",
    "#     \"https://meduza.io\": ['Meduza', \"span\", \"BlockTitle-first\", \"span\", \"BlockTitle-first\", slice(2, 7)],\n",
    "#     \"https://www.bbc.com\": ['BBC', \"h3\", \"media__title\", \"a\", \"media__link\", slice(1, 6)],\n",
    "    \"https://yandex.ru\": ['Yandex', \"span\", \"news__item-content\", \"span\", \"news__item-content\", slice(1, 6)],\n",
    "#     \"https://www.euronews.com\": ['Euronews', \"a\", \"m-object__title__link\", \"a\", \"m-object__title__link\", slice(1, 6)],\n",
    "    \"https://www.aljazeera.com\": ['Al Jazeera', \"a\", \"fte-article__title-link\", \"a\", \"fte-article__title-link\", slice(1, 6)],\n",
    "    \"https://ria.ru\": ['РИА Новости', \"span\", \"cell-main-photo__title\", \"span\", \"cell-list__item-title\", slice(5)]\n",
    "}\n",
    "\n",
    "for web_address in list(source_info.keys()):\n",
    "    site_name = source_info[web_address][0]\n",
    "    html = get_html(web_address)\n",
    "    \n",
    "    tag_name = source_info[web_address][1]\n",
    "    class_name = source_info[web_address][2]\n",
    "    print_toptitle(html, tag_name, class_name, site_name)\n",
    "    \n",
    "    tag_name = source_info[web_address][3]\n",
    "    class_name = source_info[web_address][4]\n",
    "    portion = source_info[web_address][5]\n",
    "    print_topnews(html, tag_name, class_name, portion, site_name)"
   ]
  },
  {
   "cell_type": "code",
   "execution_count": null,
   "metadata": {},
   "outputs": [],
   "source": []
  }
 ],
 "metadata": {
  "kernelspec": {
   "display_name": "Python 3",
   "language": "python",
   "name": "python3"
  },
  "language_info": {
   "codemirror_mode": {
    "name": "ipython",
    "version": 3
   },
   "file_extension": ".py",
   "mimetype": "text/x-python",
   "name": "python",
   "nbconvert_exporter": "python",
   "pygments_lexer": "ipython3",
   "version": "3.7.6"
  }
 },
 "nbformat": 4,
 "nbformat_minor": 4
}
